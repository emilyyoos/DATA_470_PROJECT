{
 "cells": [
  {
   "cell_type": "markdown",
   "metadata": {},
   "source": [
    "# The Team"
   ]
  },
  {
   "cell_type": "markdown",
   "metadata": {
    "collapsed": true
   },
   "source": [
    "> Emily Yoos: Data Manipulation, Python Usage\n",
    "\n",
    "> Maddie Tobolewski: Project Manager, Present Data in Normal Language"
   ]
  },
  {
   "cell_type": "markdown",
   "metadata": {
    "collapsed": true
   },
   "source": [
    "## The Problem Statement and Background"
   ]
  },
  {
   "cell_type": "markdown",
   "metadata": {
    "collapsed": false
   },
   "source": [
    "Overall, we want to understanf both Ethereum and Blockchain better than we do right now. To do so, we are going to dive deeply into as many aspects of each as we can. Doing some research and looking at previous analysis, Ethereum is a new and amazing cryptocurrency and Ethereum blockchain is a new, never before seen type of platform. Why is it the first? What is so different? And what can we see from the data?\n",
    "This is an interesting new development as it effects everyone, even if they may not know it. Developers can develop and deploy applications faster and safter than ever before. Published in 2013, Ethereum is a baby in the world of technology, and has already made such an impact. \n",
    "Using smart contracts (computer code that can facilitate the exchange of money, content, property, or anything of value), there is no need for censorship, downtime, fraud, or a third party interface. "
   ]
  },
  {
   "cell_type": "markdown",
   "metadata": {
    "collapsed": false
   },
   "source": [
    "## The Data Sources"
   ]
  },
  {
   "cell_type": "markdown",
   "metadata": {
    "collapsed": true
   },
   "source": [
    "We are going to use Google BigQuery's dataset called \"ethereum_blockchain\" in their big-query-public-datasets. This has 7 tables associated with the ethereum_blockchain. These tables include: blocks, contracts, logs, token_transfers, tokens, traces, transactions. Due to my forgetfulness of how to use Google Cloud Platform, we have not been able to explore the data as much as I would have liked. But this data has a lot of values that will be easily used to analyze and come to conclusions. We plan to obtain the data usign GCP. I have been able to run a few queries on the tables and there is a lot of data here, this will make for accurate conclusions. \n",
    "Since there are 7 different tables, we will attempt to join as many as we can. Though I do not think there is an identifying number for each transaction in each table, we will try to combine as many as possible. Also, most of the tables have a few columns that are hash values for the transactions resulting in character strings that take a long time to query. By remvoing uneccessary columns, we hope to make the data clearner and more understandable for us.\n",
    "\n",
    "The BigQuery dataset is loaded every day. I do not believe that it is real time, since there is no data for 9/16/2019 as of 9:00am. I will look more into when the data is uploaded to GCP."
   ]
  },
  {
   "cell_type": "markdown",
   "metadata": {},
   "source": [
    "## Goals Of Analysis"
   ]
  },
  {
   "cell_type": "markdown",
   "metadata": {},
   "source": [
    "> 1. We can look at price and value trends of an Ether (the monetary value associated with Ethereum) and see if there are weekdays or times of the year where the Ether has historically been worth more? Has it been on a constant increase? Or is there a patters?\n",
    "\n",
    "> 2. We can look at the transaction counts for certain blocks on the blockchain. Are some used more during the day / at night? Are they more popular on the weekend or on week days? \n",
    "\n",
    "> 3. Are there any stand-out transactions? For reasons such as: volume, gas amount, token amount, etc."
   ]
  },
  {
   "cell_type": "markdown",
   "metadata": {},
   "source": [
    "## Data Analysis Tools We Plan To Use"
   ]
  },
  {
   "cell_type": "markdown",
   "metadata": {},
   "source": [
    "We plan to use a lot of graphs and visualizations. This data does not make sense if you were to just stare at the tables, because you can only see a snap shot of what the data is trying to tell you. If we convert the data to easy-to-read visualizations, we can easily draw priliminary conclusions about the data and display those findings to the class. \n",
    "\n",
    "We also plan on implementing some use of machine learning, whether it is to predict the highest trafficed times of Ethereum transaction, or something else. We do not know yet."
   ]
  },
  {
   "cell_type": "markdown",
   "metadata": {},
   "source": [
    "## Data Products We Will Produce"
   ]
  },
  {
   "cell_type": "markdown",
   "metadata": {},
   "source": [
    "We will produce graphs and other easy to read visualiations. Since most of the data we have uses keys and unknown characters to someone with no knowledge of the data set, we will convert all ambigous column names to \"English\" in order to allow for conclusions to be drawn. "
   ]
  },
  {
   "cell_type": "code",
   "execution_count": null,
   "metadata": {
    "collapsed": true
   },
   "outputs": [],
   "source": []
  }
 ],
 "metadata": {
  "kernelspec": {
   "display_name": "Python 3",
   "language": "python",
   "name": "python3"
  },
  "language_info": {
   "codemirror_mode": {
    "name": "ipython",
    "version": 3
   },
   "file_extension": ".py",
   "mimetype": "text/x-python",
   "name": "python",
   "nbconvert_exporter": "python",
   "pygments_lexer": "ipython3",
   "version": "3.4.3"
  }
 },
 "nbformat": 4,
 "nbformat_minor": 0
}
