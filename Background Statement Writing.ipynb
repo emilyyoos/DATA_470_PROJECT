{
 "cells": [
  {
   "cell_type": "markdown",
   "metadata": {},
   "source": [
    "# Title"
   ]
  },
  {
   "cell_type": "markdown",
   "metadata": {},
   "source": [
    "> ### Ethereum's Evolution"
   ]
  },
  {
   "cell_type": "markdown",
   "metadata": {},
   "source": [
    "# Problem Statement and Background"
   ]
  },
  {
   "cell_type": "markdown",
   "metadata": {},
   "source": [
    "> Throughout this project, I plan on analyzing and comparing attributes pulled from the Ethereum Blockchain dataset. To analyze, I will examine gas usage, accounts, hash rates, difficulty, blocks, payout rewards, ETH, uncles, balances, and smart contracts. Each of these attributes sheds light on the health of the Ethereum Blockchain network and some even correlate with each other, predicting increases in difficulty, for example, when the hash rate increases. Not only will I be examining the data for indications of relationships between the attributes listed, but also see the changes over the past year, taking note of any differences. I will extract the week on October 1, 2019 - October 10, 2019 and compare the data to the week of October 1, 2018 - October 10, 2018. I expect to see relationships between the attributes above and predictions that can be made by these relations, I am unsure of what to expect when it comes to date comparison, but I am hoping for interesting data. "
   ]
  },
  {
   "cell_type": "markdown",
   "metadata": {},
   "source": [
    "> Exploring each attribute one by one, gas was created to “monitor and compensate minors for the work they spend running transactions and smart contracts”. The conversion rate is 3 gas units is equal to 0.00004 ETH. By examining the gas usage in each block, we can see if any blocks are getting closer to reaching their determined gas limit (which is a good sign). There is a gas market. Each transaction, each function call uses gas, and miners hold the key to getting your transaction onto the block. “By setting a higher gas price, you can incentivize miners to pick your transaction above others, increasing the chances that it’s included in a block and executed and doesn’t get stuck in the pending pool“. By examining gas usage, we can see if the usage increased, meaning the users paid more per transaction, or decreased, meaning the price per transaction has gone down."
   ]
  },
  {
   "cell_type": "markdown",
   "metadata": {},
   "source": [
    "> A link to gas usage is each user’s account. We want to see how many distinct account processed transactions during those two weeks of the year I will be looking at. Looking at the ratio of new accounts to old accounts, we can notice a growth or decline in the Ethereum blockchain community. Not only can we see the growth or decline of the community, but from the distinct accounts that send or receive transactions, we can see accounts who dominate the chain. By noticing the number of new and distinct accounts in the Ethereum Blockchain community, we can grasp a better understanding of who is composing the Ethereum community. \n"
   ]
  },
  {
   "cell_type": "markdown",
   "metadata": {},
   "source": [
    "> Also to better understand the community, we can look at the transaction volume. By comparing the number of transactions from the two weeks we declared earlier, we can see the increase or decrease in successful transactions. The success rate “indicates both efficiency and that people are using the network as intended.” By looking at efficiency and network intention, we can understand the health of the network.\n",
    "Hash rate and difficulty directly relate, as stated in the first paragraph. When the hash rate increases, the difficulty increases, which is a good thing for miners! When there is a trend of decreasing hash rates and difficulty, miners are more likely to leave the market."
   ]
  },
  {
   "cell_type": "markdown",
   "metadata": {},
   "source": [
    "> Understanding miner behavior helps us better know what is in the future of Ethereum. Mining pools, which help miners get more frequent payouts. There are five main pools that ‘control’ the market: Ethpool, f2pool, DwarfPool, 2Miners, Ethfans. Looking at the number of blocks mined and the amounts paid out by each pool, we can compare their actions a year ago and see the growth of the pool or the decline of the 5 most popular pools today. \n",
    "Miners payouts come in the form of ETH, which is created as a reward for miners. These rewards are most likely to come in two different ways: mining blocks and mining uncles. An uncle, which is the left out miner of the two miners produce competing valid blocks and broadcast them to the network, has a rate of creation. A high uncle rate is bad for the blockchain, meaning the mined blocks don’t progegate efficiency. By analyzing the uncle rate from last year and this year, we can notice any changes in the rate. \n"
   ]
  },
  {
   "cell_type": "markdown",
   "metadata": {},
   "source": [
    "# Citations"
   ]
  },
  {
   "cell_type": "markdown",
   "metadata": {},
   "source": [
    "Alethio. “15 Must-Have Analytics for Ethereum Blockchain Development.” Medium, ConsenSys Media, 20 Feb. 2019."
   ]
  },
  {
   "cell_type": "markdown",
   "metadata": {},
   "source": [
    "Jordan Tuwiner    Last updated January 29, 2019. “What Is Hash Rate?” What Is Hash Rate? 3 Things to Know (2019 Updated)."
   ]
  },
  {
   "cell_type": "markdown",
   "metadata": {},
   "source": [
    "Rosic, Ameer. “What Is Ethereum Gas? [The Most Comprehensive Step-By-Step Guide Ever!].” Blockgeeks, 25 Oct. 2019."
   ]
  },
  {
   "cell_type": "markdown",
   "metadata": {},
   "source": [
    "# GitHub Link"
   ]
  },
  {
   "cell_type": "markdown",
   "metadata": {},
   "source": [
    "https://github.com/emilyyoos/DATA_470_PROJECT.git"
   ]
  },
  {
   "cell_type": "code",
   "execution_count": null,
   "metadata": {
    "collapsed": true
   },
   "outputs": [],
   "source": []
  }
 ],
 "metadata": {
  "kernelspec": {
   "display_name": "Python 3",
   "language": "python",
   "name": "python3"
  },
  "language_info": {
   "codemirror_mode": {
    "name": "ipython",
    "version": 3
   },
   "file_extension": ".py",
   "mimetype": "text/x-python",
   "name": "python",
   "nbconvert_exporter": "python",
   "pygments_lexer": "ipython3",
   "version": "3.4.3"
  }
 },
 "nbformat": 4,
 "nbformat_minor": 0
}
