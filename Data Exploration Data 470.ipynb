{
 "cells": [
  {
   "cell_type": "markdown",
   "metadata": {},
   "source": [
    "## Data Exploration"
   ]
  },
  {
   "cell_type": "markdown",
   "metadata": {},
   "source": [
    "#### Problem Statement & Background"
   ]
  },
  {
   "cell_type": "markdown",
   "metadata": {},
   "source": [
    "> ##### High level statement of the problem: \n",
    "Ethereum is becoming more and more popular due to it being new and never before seen type of platform. Why is it the first? What is so different? And what can we see from the data?\n",
    "\n",
    "> ##### Background on the problem:\n",
    "Cryptocurrencies have been creeping into our everyday lives through many different platforms. Published in 2013, Ethereum is a baby in the world of technology, and has already made such an impact. Overall, we want to understand both Ethereum and Blockchain better than we do right now. To do so, we are going to dive deeply into as many aspects of each as we can. Doing some research and looking at previous analysis, Ethereum is a new and amazing cryptocurrency and Ethereum blockchain is a new, never before seen type of platform.\n",
    "\n",
    "> ##### Why is the problem interesting?\n",
    "Developers can develop and deploy applications faster and safter than ever before. Using smart contracts (computer code that can facilitate the exchange of money, content, property, or anything of value), there is no need for censorship, downtime, fraud, or a third party interface. \n",
    "\n",
    "> ##### Who is interested?\n",
    "Everyone should be interested, as it has the ability to bring everyone more content. Developers are especially interested as Ethereum Blockchain gives them an easy platform to develop applications. \n",
    "\n",
    "> ##### What is known?\n",
    "Analysis has been done to find the most popular smart contract event logs, transaction volumes and networks, and smart contract functionality.  "
   ]
  },
  {
   "cell_type": "markdown",
   "metadata": {},
   "source": [
    "#### Data Source Intend To Use"
   ]
  },
  {
   "cell_type": "markdown",
   "metadata": {},
   "source": [
    "> ##### Describe the data source:\n",
    "We are going to use Google BigQuery's dataset called \"ethereum_blockchain\" in their big-query-public-datasets. This has 7 tables associated with the ethereum_blockchain. These tables include: blocks, contracts, logs, token_transfers, tokens, traces, transactions. Due to my forgetfulness of how to use Google Cloud Platform, we have not been able to explore the data as much as I would have liked. But this data has a lot of values that will be easily used to analyze and come to conclusions. We plan to obtain the data usign GCP. I have been able to run a few queries on the tables and there is a lot of data here, this will make for accurate conclusions. \n",
    "Since there are 7 different tables, we will attempt to join as many as we can. Though I do not think there is an identifying number for each transaction in each table, we will try to combine as many as possible. Also, most of the tables have a few columns that are hash values for the transactions resulting in character strings that take a long time to query. By remvoing uneccessary columns, we hope to make the data clearner and more understandable for us.\n",
    "The BigQuery dataset is loaded every day. I do not believe that it is real time, since there is no data for 9/26/2019 as of 9:00am. I will look more into when the data is uploaded to GCP.\n",
    "\n",
    "> ##### How much data we have:\n",
    "We have a lot of data. For the purposes of data exploration, I have pulled the most recent 1000 records from each table in the Google BigQuery dataset.\n",
    "\n",
    "> ##### Where the data is stored:\n",
    "The data is stored in Google's BigQuery\n",
    "\n",
    "> ##### Collect more in the future?\n",
    "This data is updated every day, so data is always being collected"
   ]
  },
  {
   "cell_type": "markdown",
   "metadata": {},
   "source": [
    "#### Data Flaws/Weaknesses And Cleaning"
   ]
  },
  {
   "cell_type": "markdown",
   "metadata": {},
   "source": [
    "> ##### Formatting errors?\n",
    "This data is very organized, though a lot of the information is hashed or numeric values which makes understanding the data difficult.\n",
    "\n",
    "> ##### Out-of-range errors?\n",
    "Through examination using the .describe() function, there were no obvious outliers in the subset of data I used for data exploration.\n",
    "\n",
    "> ##### Missing fields?\n",
    "There are no missing fields, though not all columns were required to have information, it does not impact any data analysis that will be done.\n",
    "\n",
    "> ##### Outliers?\n",
    "No outliers"
   ]
  },
  {
   "cell_type": "markdown",
   "metadata": {},
   "source": [
    "#### Basic Data Characteristics"
   ]
  },
  {
   "cell_type": "code",
   "execution_count": 58,
   "metadata": {
    "collapsed": false
   },
   "outputs": [
    {
     "name": "stdout",
     "output_type": "stream",
     "text": [
      "\u001b[33mDEPRECATION: Python 2.7 will reach the end of its life on January 1st, 2020. Please upgrade your Python as Python 2.7 won't be maintained after that date. A future version of pip will drop support for Python 2.7. More details about Python 2 support in pip, can be found at https://pip.pypa.io/en/latest/development/release-process/#python-2-support\u001b[0m\n",
      "Requirement already up-to-date: google-cloud-bigquery[pandas] in /opt/conda/anaconda/lib/python2.7/site-packages (1.20.0)\n",
      "Requirement already satisfied, skipping upgrade: protobuf>=3.6.0 in /opt/conda/anaconda/lib/python2.7/site-packages (from google-cloud-bigquery[pandas]) (3.9.2)\n",
      "Requirement already satisfied, skipping upgrade: enum34; python_version < \"3.4\" in /opt/conda/anaconda/lib/python2.7/site-packages (from google-cloud-bigquery[pandas]) (1.1.6)\n",
      "Requirement already satisfied, skipping upgrade: google-cloud-core<2.0dev,>=1.0.3 in /opt/conda/anaconda/lib/python2.7/site-packages (from google-cloud-bigquery[pandas]) (1.0.3)\n",
      "Requirement already satisfied, skipping upgrade: google-resumable-media>=0.3.1 in /opt/conda/anaconda/lib/python2.7/site-packages (from google-cloud-bigquery[pandas]) (0.4.1)\n",
      "Requirement already satisfied, skipping upgrade: pandas>=0.17.1; extra == \"pandas\" in /root/.local/lib/python2.7/site-packages (from google-cloud-bigquery[pandas]) (0.24.2)\n",
      "Requirement already satisfied, skipping upgrade: six>=1.9 in /opt/conda/anaconda/lib/python2.7/site-packages (from protobuf>=3.6.0->google-cloud-bigquery[pandas]) (1.12.0)\n",
      "Requirement already satisfied, skipping upgrade: setuptools in /opt/conda/anaconda/lib/python2.7/site-packages (from protobuf>=3.6.0->google-cloud-bigquery[pandas]) (41.2.0)\n",
      "Requirement already satisfied, skipping upgrade: google-api-core<2.0.0dev,>=1.14.0 in /opt/conda/anaconda/lib/python2.7/site-packages (from google-cloud-core<2.0dev,>=1.0.3->google-cloud-bigquery[pandas]) (1.14.2)\n",
      "Requirement already satisfied, skipping upgrade: pytz>=2011k in /opt/conda/anaconda/lib/python2.7/site-packages (from pandas>=0.17.1; extra == \"pandas\"->google-cloud-bigquery[pandas]) (2019.2)\n",
      "Requirement already satisfied, skipping upgrade: numpy>=1.12.0 in /root/.local/lib/python2.7/site-packages (from pandas>=0.17.1; extra == \"pandas\"->google-cloud-bigquery[pandas]) (1.16.5)\n",
      "Requirement already satisfied, skipping upgrade: python-dateutil>=2.5.0 in /root/.local/lib/python2.7/site-packages (from pandas>=0.17.1; extra == \"pandas\"->google-cloud-bigquery[pandas]) (2.8.0)\n",
      "Requirement already satisfied, skipping upgrade: googleapis-common-protos<2.0dev,>=1.6.0 in /opt/conda/anaconda/lib/python2.7/site-packages (from google-api-core<2.0.0dev,>=1.14.0->google-cloud-core<2.0dev,>=1.0.3->google-cloud-bigquery[pandas]) (1.6.0)\n",
      "Requirement already satisfied, skipping upgrade: requests<3.0.0dev,>=2.18.0 in /opt/conda/anaconda/lib/python2.7/site-packages (from google-api-core<2.0.0dev,>=1.14.0->google-cloud-core<2.0dev,>=1.0.3->google-cloud-bigquery[pandas]) (2.22.0)\n",
      "Requirement already satisfied, skipping upgrade: futures>=3.2.0; python_version < \"3.2\" in /opt/conda/anaconda/lib/python2.7/site-packages (from google-api-core<2.0.0dev,>=1.14.0->google-cloud-core<2.0dev,>=1.0.3->google-cloud-bigquery[pandas]) (3.3.0)\n",
      "Requirement already satisfied, skipping upgrade: google-auth<2.0dev,>=0.4.0 in /opt/conda/anaconda/lib/python2.7/site-packages (from google-api-core<2.0.0dev,>=1.14.0->google-cloud-core<2.0dev,>=1.0.3->google-cloud-bigquery[pandas]) (1.6.3)\n",
      "Requirement already satisfied, skipping upgrade: chardet<3.1.0,>=3.0.2 in /opt/conda/anaconda/lib/python2.7/site-packages (from requests<3.0.0dev,>=2.18.0->google-api-core<2.0.0dev,>=1.14.0->google-cloud-core<2.0dev,>=1.0.3->google-cloud-bigquery[pandas]) (3.0.4)\n",
      "Requirement already satisfied, skipping upgrade: idna<2.9,>=2.5 in /opt/conda/anaconda/lib/python2.7/site-packages (from requests<3.0.0dev,>=2.18.0->google-api-core<2.0.0dev,>=1.14.0->google-cloud-core<2.0dev,>=1.0.3->google-cloud-bigquery[pandas]) (2.8)\n",
      "Requirement already satisfied, skipping upgrade: urllib3!=1.25.0,!=1.25.1,<1.26,>=1.21.1 in /opt/conda/anaconda/lib/python2.7/site-packages (from requests<3.0.0dev,>=2.18.0->google-api-core<2.0.0dev,>=1.14.0->google-cloud-core<2.0dev,>=1.0.3->google-cloud-bigquery[pandas]) (1.25.6)\n",
      "Requirement already satisfied, skipping upgrade: certifi>=2017.4.17 in /opt/conda/anaconda/lib/python2.7/site-packages (from requests<3.0.0dev,>=2.18.0->google-api-core<2.0.0dev,>=1.14.0->google-cloud-core<2.0dev,>=1.0.3->google-cloud-bigquery[pandas]) (2019.9.11)\n",
      "Requirement already satisfied, skipping upgrade: pyasn1-modules>=0.2.1 in /opt/conda/anaconda/lib/python2.7/site-packages (from google-auth<2.0dev,>=0.4.0->google-api-core<2.0.0dev,>=1.14.0->google-cloud-core<2.0dev,>=1.0.3->google-cloud-bigquery[pandas]) (0.2.6)\n",
      "Requirement already satisfied, skipping upgrade: cachetools>=2.0.0 in /opt/conda/anaconda/lib/python2.7/site-packages (from google-auth<2.0dev,>=0.4.0->google-api-core<2.0.0dev,>=1.14.0->google-cloud-core<2.0dev,>=1.0.3->google-cloud-bigquery[pandas]) (3.1.1)\n",
      "Requirement already satisfied, skipping upgrade: rsa>=3.1.4 in /opt/conda/anaconda/lib/python2.7/site-packages (from google-auth<2.0dev,>=0.4.0->google-api-core<2.0.0dev,>=1.14.0->google-cloud-core<2.0dev,>=1.0.3->google-cloud-bigquery[pandas]) (4.0)\n",
      "Requirement already satisfied, skipping upgrade: pyasn1<0.5.0,>=0.4.6 in /opt/conda/anaconda/lib/python2.7/site-packages (from pyasn1-modules>=0.2.1->google-auth<2.0dev,>=0.4.0->google-api-core<2.0.0dev,>=1.14.0->google-cloud-core<2.0dev,>=1.0.3->google-cloud-bigquery[pandas]) (0.4.7)\n"
     ]
    }
   ],
   "source": [
    "!pip install --upgrade google-cloud-bigquery[pandas]"
   ]
  },
  {
   "cell_type": "code",
   "execution_count": 65,
   "metadata": {
    "collapsed": false
   },
   "outputs": [
    {
     "name": "stdout",
     "output_type": "stream",
     "text": [
      "Copying gs://data-470-bucket/blocks_25_data.csv...\n",
      "\n",
      "Operation completed over 1 objects/151.2 KiB.                                    \n",
      "Copying gs://data-470-bucket/contracts_25_data.csv...\n",
      "\n",
      "Operation completed over 1 objects/1.5 MiB.                                      \n",
      "Copying gs://data-470-bucket/token_transfers_25_data.csv...\n",
      "\n",
      "Operation completed over 1 objects/173.6 KiB.                                    \n",
      "CommandException: No URLs matched: gs://data-470-bucket/tokens_data.csv\n",
      "Copying gs://data-470-bucket/traces_25_data.csv...\n",
      "\n",
      "Operation completed over 1 objects/391.8 KiB.                                    \n",
      "Copying gs://data-470-bucket/transactions_25_data.csv...\n",
      "\n",
      "Operation completed over 1 objects/490.9 KiB.                                    \n"
     ]
    }
   ],
   "source": [
    "!gsutil cp gs://data-470-bucket/blocks_25_data.csv blocks_25_data.csv\n",
    "!gsutil cp gs://data-470-bucket/contracts_25_data.csv contracts_25_data.csv\n",
    "!gsutil cp gs://data-470-bucket/token_transfers_25_data.csv token_transfers_25_data.csv\n",
    "!gsutil cp gs://data-470-bucket/tockens_data.csv tockens_data.csv\n",
    "!gsutil cp gs://data-470-bucket/traces_25_data.csv traces_25_data.csv\n",
    "!gsutil cp gs://data-470-bucket/transactions_25_data.csv transactions_25_data.csv"
   ]
  },
  {
   "cell_type": "code",
   "execution_count": 72,
   "metadata": {
    "collapsed": true
   },
   "outputs": [],
   "source": [
    "blocks = pd.read_csv(\"blocks_25_data.csv\")\n",
    "contracts = pd.read_csv(\"contracts_25_data.csv\")\n",
    "token_trans = pd.read_csv(\"token_transfers_25_data.csv\")\n",
    "tokens = pd.read_csv(\"tockens_data.csv\")\n",
    "traces = pd.read_csv(\"traces_25_data.csv\")\n",
    "trans = pd.read_csv(\"transactions_25_data.csv\")"
   ]
  },
  {
   "cell_type": "code",
   "execution_count": 84,
   "metadata": {
    "collapsed": false
   },
   "outputs": [
    {
     "name": "stdout",
     "output_type": "stream",
     "text": [
      "('There are NA vals in BLOCKS', False)\n",
      "('There are NA vals in CONTRACTS', False)\n",
      "('There are NA vals in TOKEN_TRANS', False)\n",
      "('There are NA vals in TOKENS', True)\n",
      "('There are NA vals in TRACES', True)\n",
      "('There are NA vals in TRANS', True)\n"
     ]
    }
   ],
   "source": [
    "print(\"There are NA vals in BLOCKS\",blocks.isnull().values.any())\n",
    "print(\"There are NA vals in CONTRACTS\",contracts.isnull().values.any())\n",
    "print(\"There are NA vals in TOKEN_TRANS\",token_trans.isnull().values.any())\n",
    "print(\"There are NA vals in TOKENS\",tokens.isnull().values.any())\n",
    "print(\"There are NA vals in TRACES\",traces.isnull().values.any())\n",
    "print(\"There are NA vals in TRANS\",trans.isnull().values.any())"
   ]
  },
  {
   "cell_type": "markdown",
   "metadata": {},
   "source": [
    "There are no NA values in [blocks, contracts, token_trans] and there are NA values in [tokens, traces, trans]"
   ]
  },
  {
   "cell_type": "markdown",
   "metadata": {},
   "source": [
    "Using the .describe() function, none of the tables appear to have any outliers in their numeric valued fields. "
   ]
  },
  {
   "cell_type": "code",
   "execution_count": 109,
   "metadata": {
    "collapsed": false
   },
   "outputs": [
    {
     "data": {
      "text/plain": [
       "(1000, 9)"
      ]
     },
     "execution_count": 109,
     "metadata": {},
     "output_type": "execute_result"
    }
   ],
   "source": [
    "blocks.shape"
   ]
  },
  {
   "cell_type": "code",
   "execution_count": 110,
   "metadata": {
    "collapsed": false
   },
   "outputs": [
    {
     "data": {
      "text/plain": [
       "(1000, 6)"
      ]
     },
     "execution_count": 110,
     "metadata": {},
     "output_type": "execute_result"
    }
   ],
   "source": [
    "contracts.shape"
   ]
  },
  {
   "cell_type": "code",
   "execution_count": 111,
   "metadata": {
    "collapsed": false
   },
   "outputs": [
    {
     "data": {
      "text/plain": [
       "(1000, 6)"
      ]
     },
     "execution_count": 111,
     "metadata": {},
     "output_type": "execute_result"
    }
   ],
   "source": [
    "token_trans.shape"
   ]
  },
  {
   "cell_type": "code",
   "execution_count": 112,
   "metadata": {
    "collapsed": false
   },
   "outputs": [
    {
     "data": {
      "text/plain": [
       "(1000, 7)"
      ]
     },
     "execution_count": 112,
     "metadata": {},
     "output_type": "execute_result"
    }
   ],
   "source": [
    "tokens.shape"
   ]
  },
  {
   "cell_type": "code",
   "execution_count": 113,
   "metadata": {
    "collapsed": false
   },
   "outputs": [
    {
     "data": {
      "text/plain": [
       "(1000, 17)"
      ]
     },
     "execution_count": 113,
     "metadata": {},
     "output_type": "execute_result"
    }
   ],
   "source": [
    "traces.shape"
   ]
  },
  {
   "cell_type": "code",
   "execution_count": 114,
   "metadata": {
    "collapsed": false
   },
   "outputs": [
    {
     "data": {
      "text/plain": [
       "(1000, 14)"
      ]
     },
     "execution_count": 114,
     "metadata": {},
     "output_type": "execute_result"
    }
   ],
   "source": [
    "trans.shape"
   ]
  },
  {
   "cell_type": "code",
   "execution_count": 119,
   "metadata": {
    "collapsed": false
   },
   "outputs": [
    {
     "data": {
      "text/plain": [
       "array([[<matplotlib.axes._subplots.AxesSubplot object at 0x7fe7aa94e690>]],\n",
       "      dtype=object)"
      ]
     },
     "execution_count": 119,
     "metadata": {},
     "output_type": "execute_result"
    },
    {
     "data": {
      "image/png": "[encoded data removed]",
      "text/plain": [
       "<matplotlib.figure.Figure at 0x7fe7aa9f6fd0>"
      ]
     },
     "metadata": {},
     "output_type": "display_data"
    },
    {
     "data": {
      "image/png": "[encoded data removed]",
      "text/plain": [
       "<matplotlib.figure.Figure at 0x7fe7aa9f6bd0>"
      ]
     },
     "metadata": {},
     "output_type": "display_data"
    },
    {
     "data": {
      "image/png": "[encoded data removed]",
      "text/plain": [
       "<matplotlib.figure.Figure at 0x7fe7aaa90e90>"
      ]
     },
     "metadata": {},
     "output_type": "display_data"
    }
   ],
   "source": [
    "blocks.hist(column='transaction_count')\n",
    "blocks.hist(column='gas_used')\n",
    "blocks.hist(column='number')"
   ]
  },
  {
   "cell_type": "code",
   "execution_count": 121,
   "metadata": {
    "collapsed": false
   },
   "outputs": [
    {
     "data": {
      "text/plain": [
       "array([[<matplotlib.axes._subplots.AxesSubplot object at 0x7fe7aa81bf10>]],\n",
       "      dtype=object)"
      ]
     },
     "execution_count": 121,
     "metadata": {},
     "output_type": "execute_result"
    },
    {
     "data": {
      "image/png": "[encoded data removed]",
      "text/plain": [
       "<matplotlib.figure.Figure at 0x7fe7aa9f66d0>"
      ]
     },
     "metadata": {},
     "output_type": "display_data"
    },
    {
     "data": {
      "image/png": "[encoded data removed]",
      "text/plain": [
       "<matplotlib.figure.Figure at 0x7fe7aa8d1150>"
      ]
     },
     "metadata": {},
     "output_type": "display_data"
    }
   ],
   "source": [
    "contracts.hist(column='is_erc20')\n",
    "contracts.hist(column='is_erc721')"
   ]
  },
  {
   "cell_type": "code",
   "execution_count": 125,
   "metadata": {
    "collapsed": false
   },
   "outputs": [
    {
     "data": {
      "text/html": [
       "<div>\n",
       "<style scoped>\n",
       "    .dataframe tbody tr th:only-of-type {\n",
       "        vertical-align: middle;\n",
       "    }\n",
       "\n",
       "    .dataframe tbody tr th {\n",
       "        vertical-align: top;\n",
       "    }\n",
       "\n",
       "    .dataframe thead th {\n",
       "        text-align: right;\n",
       "    }\n",
       "</style>\n",
       "<table border=\"1\" class=\"dataframe\">\n",
       "  <thead>\n",
       "    <tr style=\"text-align: right;\">\n",
       "      <th></th>\n",
       "      <th>address</th>\n",
       "      <th>symbol</th>\n",
       "      <th>name</th>\n",
       "      <th>decimals</th>\n",
       "      <th>total_supply</th>\n",
       "      <th>block_timestamp</th>\n",
       "      <th>block_number</th>\n",
       "    </tr>\n",
       "  </thead>\n",
       "  <tbody>\n",
       "    <tr>\n",
       "      <th>0</th>\n",
       "      <td>0xa3bc5b0e66ba8e577e60cc7164eea5ddf6aac2b5</td>\n",
       "      <td>ff18</td>\n",
       "      <td>Fantasy Football Trophy 2018</td>\n",
       "      <td>NaN</td>\n",
       "      <td>1</td>\n",
       "      <td>2019-08-07 18:58:56 UTC</td>\n",
       "      <td>8305266</td>\n",
       "    </tr>\n",
       "    <tr>\n",
       "      <th>1</th>\n",
       "      <td>0xbde5d749026049a881e083bf2eb4250117c8dcbe</td>\n",
       "      <td>KCDS</td>\n",
       "      <td>KammerCards</td>\n",
       "      <td>NaN</td>\n",
       "      <td>3</td>\n",
       "      <td>2019-08-07 17:59:25 UTC</td>\n",
       "      <td>8304996</td>\n",
       "    </tr>\n",
       "    <tr>\n",
       "      <th>2</th>\n",
       "      <td>0x0e10eec148db706321eb8a4705b4937844b0ec57</td>\n",
       "      <td>BBW</td>\n",
       "      <td>Berlin Blockchain Week</td>\n",
       "      <td>NaN</td>\n",
       "      <td>10</td>\n",
       "      <td>2019-08-07 17:32:53 UTC</td>\n",
       "      <td>8304884</td>\n",
       "    </tr>\n",
       "    <tr>\n",
       "      <th>3</th>\n",
       "      <td>0x212c5538406e04e7acc96ac450e1148fae8bf2f6</td>\n",
       "      <td>HAK</td>\n",
       "      <td>DAITAN</td>\n",
       "      <td>0.0</td>\n",
       "      <td>0</td>\n",
       "      <td>2019-08-07 11:03:59 UTC</td>\n",
       "      <td>8303155</td>\n",
       "    </tr>\n",
       "    <tr>\n",
       "      <th>4</th>\n",
       "      <td>0x2c81a10029b8822fa76b1f1df75443bdec1e54cb</td>\n",
       "      <td>NaN</td>\n",
       "      <td>NaN</td>\n",
       "      <td>0.0</td>\n",
       "      <td>0</td>\n",
       "      <td>2019-08-07 22:50:22 UTC</td>\n",
       "      <td>8306330</td>\n",
       "    </tr>\n",
       "  </tbody>\n",
       "</table>\n",
       "</div>"
      ],
      "text/plain": [
       "                                      address symbol  \\\n",
       "0  0xa3bc5b0e66ba8e577e60cc7164eea5ddf6aac2b5   ff18   \n",
       "1  0xbde5d749026049a881e083bf2eb4250117c8dcbe   KCDS   \n",
       "2  0x0e10eec148db706321eb8a4705b4937844b0ec57    BBW   \n",
       "3  0x212c5538406e04e7acc96ac450e1148fae8bf2f6    HAK   \n",
       "4  0x2c81a10029b8822fa76b1f1df75443bdec1e54cb    NaN   \n",
       "\n",
       "                           name  decimals total_supply  \\\n",
       "0  Fantasy Football Trophy 2018       NaN            1   \n",
       "1                   KammerCards       NaN            3   \n",
       "2        Berlin Blockchain Week       NaN           10   \n",
       "3                        DAITAN       0.0            0   \n",
       "4                           NaN       0.0            0   \n",
       "\n",
       "           block_timestamp  block_number  \n",
       "0  2019-08-07 18:58:56 UTC       8305266  \n",
       "1  2019-08-07 17:59:25 UTC       8304996  \n",
       "2  2019-08-07 17:32:53 UTC       8304884  \n",
       "3  2019-08-07 11:03:59 UTC       8303155  \n",
       "4  2019-08-07 22:50:22 UTC       8306330  "
      ]
     },
     "execution_count": 125,
     "metadata": {},
     "output_type": "execute_result"
    }
   ],
   "source": [
    "tokens.head()"
   ]
  },
  {
   "cell_type": "markdown",
   "metadata": {},
   "source": [
    "#### Surprises"
   ]
  },
  {
   "cell_type": "markdown",
   "metadata": {},
   "source": [
    "> ##### What do we expect to see?\n",
    "I do not intend to see any real outliers in this data. I really do not understand this data and what any of the numeric values represent so I definitely need to learn more in that aspect of what everything is."
   ]
  },
  {
   "cell_type": "code",
   "execution_count": null,
   "metadata": {
    "collapsed": true
   },
   "outputs": [],
   "source": []
  }
 ],
 "metadata": {
  "kernelspec": {
   "display_name": "Python 3",
   "language": "python",
   "name": "python3"
  },
  "language_info": {
   "codemirror_mode": {
    "name": "ipython",
    "version": 3
   },
   "file_extension": ".py",
   "mimetype": "text/x-python",
   "name": "python",
   "nbconvert_exporter": "python",
   "pygments_lexer": "ipython3",
   "version": "3.4.3"
  }
 },
 "nbformat": 4,
 "nbformat_minor": 2
}
